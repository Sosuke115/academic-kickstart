{
 "cells": [
  {
   "cell_type": "code",
   "execution_count": 1,
   "metadata": {},
   "outputs": [
    {
     "name": "stderr",
     "output_type": "stream",
     "text": [
      "/Users/sosuke/.pyenv/versions/anaconda3-5.2.0/lib/python3.6/site-packages/ipykernel_launcher.py:13: RuntimeWarning: covariance is not positive-semidefinite.\n",
      "  del sys.path[0]\n"
     ]
    }
   ],
   "source": [
    "import numpy as np\n",
    "import matplotlib.pyplot as plt\n",
    "\n",
    "\n",
    "# case3\n",
    "m1 = np.array([0., 2.])\n",
    "m2= np.array([3., 0.])\n",
    "cov1 = np.array([[4, -1.2], [-1.2, 1]])\n",
    "cov2 = np.array([[3, 1.2], [3.2, 2]])\n",
    "# cov1=np.eye(2) * (σ**2)\n",
    "# cov2=cov1\n",
    "x1 = np.random.multivariate_normal(m1, cov1, size=100).T\n",
    "x2 = np.random.multivariate_normal(m2, cov2, size=100).T"
   ]
  },
  {
   "cell_type": "code",
   "execution_count": 2,
   "metadata": {},
   "outputs": [],
   "source": [
    "def get_g(x, cov, m, p):\n",
    "  W = -1/2 * np.linalg.inv(cov)\n",
    "  w = np.linalg.inv(cov).dot(m)\n",
    "  w0 = (m.dot(W)).dot(m) - 1/2 * np.log(np.linalg.det(cov)) + np.log(p)\n",
    "  return (x.T.dot(W)).dot(x) + w.dot(x) + w0"
   ]
  },
  {
   "cell_type": "code",
   "execution_count": 3,
   "metadata": {},
   "outputs": [],
   "source": [
    "p1=0.3\n",
    "p2=1-p1\n",
    "l1 = (get_g(x1, cov1, m1, p1) -  get_g(x1, cov2, m2, p2) > 0)[-1]\n",
    "l2 = ~((get_g(x2, cov2, m2, p2) - get_g(x2, cov1, m1, p1) > 0)[-1])"
   ]
  },
  {
   "cell_type": "code",
   "execution_count": null,
   "metadata": {},
   "outputs": [],
   "source": []
  }
 ],
 "metadata": {
  "kernelspec": {
   "display_name": "Python 3",
   "language": "python",
   "name": "python3"
  },
  "language_info": {
   "codemirror_mode": {
    "name": "ipython",
    "version": 3
   },
   "file_extension": ".py",
   "mimetype": "text/x-python",
   "name": "python",
   "nbconvert_exporter": "python",
   "pygments_lexer": "ipython3",
   "version": "3.6.5"
  }
 },
 "nbformat": 4,
 "nbformat_minor": 2
}
